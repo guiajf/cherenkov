{
 "cells": [
  {
   "cell_type": "markdown",
   "id": "f8f2ca72-f467-43ae-a073-05235e162bcd",
   "metadata": {},
   "source": [
    "### Importamos as bilbiotecas"
   ]
  },
  {
   "cell_type": "code",
   "execution_count": null,
   "id": "de2021c3-ec76-4f03-a299-5b5b3d4f4908",
   "metadata": {},
   "outputs": [],
   "source": [
    "                                                                                import numpy as np\n",
    "import pandas as pd\n",
    "import matplotlib.pyplot as plt\n",
    "from sklearn.preprocessing import StandardScaler\n",
    "from imblearn.over_sampling import RandomOverSampler\n",
    "from sklearn.model_selection import train_test_split\n",
    "from sklearn.feature_selection import SelectKBest, f_classif\n",
    "from sklearn.naive_bayes import GaussianNB"
   ]
  },
  {
   "cell_type": "markdown",
   "id": "165e53ee-8517-42f4-9eb3-1c9bdb745669",
   "metadata": {},
   "source": [
    "### Carregamos o dataset\n",
    "**Renomeamos as colunas**"
   ]
  },
  {
   "cell_type": "code",
   "execution_count": null,
   "id": "7a0d624e-720f-434f-af63-5b3d47a78105",
   "metadata": {},
   "outputs": [],
   "source": [
    "cols = [\"fLength\", \"fWidth\", \"fSize\", \"fConc\", \"fConc1\", \"fAsym\", \"fM3Long\", \"fM3Trans\", \"fAlpha\", \"fDist\", \"class\"]\n",
    "df = pd.read_csv(\"magic04.data\", names=cols)\n",
    "df.head()"
   ]
  },
  {
   "cell_type": "markdown",
   "id": "39e6ca56-323e-4176-8835-fba5da88fec7",
   "metadata": {},
   "source": [
    "### Transformamos a variável categórica em numérica"
   ]
  },
  {
   "cell_type": "code",
   "execution_count": null,
   "id": "44fdeb68-fa8d-4d68-bb2f-b8295c980061",
   "metadata": {},
   "outputs": [],
   "source": [
    "df[\"class\"] = (df[\"class\"] == \"g\").astype(int)"
   ]
  },
  {
   "cell_type": "code",
   "execution_count": null,
   "id": "ec096d25-4f81-4453-b981-f49b9fc5ebd5",
   "metadata": {},
   "outputs": [],
   "source": [
    "df.head()"
   ]
  },
  {
   "cell_type": "markdown",
   "id": "1190a57e-34a5-4402-834f-dac2c1e7c893",
   "metadata": {},
   "source": [
    "### Visualizamos as distribuições "
   ]
  },
  {
   "cell_type": "markdown",
   "id": "65289c79-d9be-4d49-9e57-dfdf6023efe8",
   "metadata": {},
   "source": [
    "**Criamos uma matriz de gráficos de dispersão:**"
   ]
  },
  {
   "cell_type": "code",
   "execution_count": null,
   "id": "599246db-3f56-4225-a8cc-fabe1f32e834",
   "metadata": {},
   "outputs": [],
   "source": [
    "import seaborn as sns\n",
    "dados = df.iloc[:, :-1].copy()\n",
    "sns.pairplot(data=dados)"
   ]
  },
  {
   "cell_type": "markdown",
   "id": "1c20c72c-b7af-4f67-bb69-017262a4a114",
   "metadata": {},
   "source": [
    "**Calculamos a matriz de correlação:**"
   ]
  },
  {
   "cell_type": "code",
   "execution_count": null,
   "id": "bcddde59-3d2f-4692-aa94-6271fcf33c31",
   "metadata": {},
   "outputs": [],
   "source": [
    "corr = df.drop(labels='class',axis=1).corr()\n",
    "sns.heatmap(data=corr,xticklabels=corr.columns,yticklabels=corr.columns,linewidths=0.5,annot=True)"
   ]
  },
  {
   "cell_type": "markdown",
   "id": "be271374-ca5c-4c07-b0df-b7f2bbb14e26",
   "metadata": {},
   "source": [
    "### Separação do dataset em treinamento, validação e teste"
   ]
  },
  {
   "cell_type": "code",
   "execution_count": null,
   "id": "19f773c0-d9a5-4613-9722-cf917e5c3da8",
   "metadata": {},
   "outputs": [],
   "source": [
    "import warnings\n",
    "warnings.filterwarnings('ignore', category=FutureWarning)\n",
    "\n",
    "train, valid, test = np.split(df.sample(frac=1), [int(0.6*len(df)), int(0.8*len(df))])"
   ]
  },
  {
   "cell_type": "markdown",
   "id": "c660a39b-79f3-4873-b568-161098ba6730",
   "metadata": {},
   "source": [
    "### Conferimos o balanceamento dos dados"
   ]
  },
  {
   "cell_type": "code",
   "execution_count": null,
   "id": "b9dd5192-7423-41cf-9d6f-7e64830cc096",
   "metadata": {},
   "outputs": [],
   "source": [
    "print(len(train[train[\"class\"]==1]))"
   ]
  },
  {
   "cell_type": "code",
   "execution_count": null,
   "id": "6d9dec7c-4fbe-453d-a00d-c08736e9b4b2",
   "metadata": {},
   "outputs": [],
   "source": [
    "print(len(train[train[\"class\"]==0]))"
   ]
  },
  {
   "cell_type": "markdown",
   "id": "b2ba3a91-1286-4ca0-9ebe-f1b059c4225a",
   "metadata": {},
   "source": [
    "### Padronização e balanceamento dos dados"
   ]
  },
  {
   "cell_type": "markdown",
   "id": "98e64b19-a8d9-4bbf-bf6d-50d08804d519",
   "metadata": {},
   "source": [
    "Além da padronização dos dados, utilizamos o método *RandomOverSampler* para reamostragem dos dados desbalanceados."
   ]
  },
  {
   "cell_type": "code",
   "execution_count": null,
   "id": "962e0d72-99d5-4933-a8c9-a2da343e4bcb",
   "metadata": {},
   "outputs": [],
   "source": [
    "    def scale_dataset(dataframe, oversample=False):\n",
    "      X = dataframe[dataframe.columns[:-1]].values\n",
    "      y = dataframe[dataframe.columns[-1]].values\n",
    "    \n",
    "      scaler = StandardScaler()\n",
    "      X = scaler.fit_transform(X)\n",
    "    \n",
    "      if oversample:\n",
    "        ros = RandomOverSampler()\n",
    "        X, y = ros.fit_resample(X, y)\n",
    "    \n",
    "      data = np.hstack((X, np.reshape(y, (-1, 1))))\n",
    "    \n",
    "      return data, X, y"
   ]
  },
  {
   "cell_type": "code",
   "execution_count": null,
   "id": "d58e2ad7-596d-41cd-bf41-6a8777a4d15a",
   "metadata": {},
   "outputs": [],
   "source": [
    "train, X_train, y_train = scale_dataset(train, oversample=True)\n",
    "valid, X_valid, y_valid = scale_dataset(valid, oversample=False)\n",
    "test, X_test, y_test = scale_dataset(test, oversample=False)"
   ]
  },
  {
   "cell_type": "markdown",
   "id": "326a5c3d-a10b-452a-954f-abc1a2ab4e13",
   "metadata": {},
   "source": [
    "## KNN"
   ]
  },
  {
   "cell_type": "code",
   "execution_count": null,
   "id": "0e3ac17b-022c-4b0c-bf96-0f7a4520bf63",
   "metadata": {},
   "outputs": [],
   "source": [
    "from sklearn.neighbors import KNeighborsClassifier\n",
    "from sklearn.metrics import classification_report"
   ]
  },
  {
   "cell_type": "code",
   "execution_count": null,
   "id": "01ec929d-9a44-4786-b8be-8d85b0a5043e",
   "metadata": {},
   "outputs": [],
   "source": [
    "knn_model = KNeighborsClassifier(n_neighbors=5)\n",
    "knn_model.fit(X_train, y_train)"
   ]
  },
  {
   "cell_type": "code",
   "execution_count": null,
   "id": "bd53b898-2f74-4750-b962-e72ab7e4e3ff",
   "metadata": {},
   "outputs": [],
   "source": [
    "y_valid_pred = knn_model.predict(X_valid)"
   ]
  },
  {
   "cell_type": "code",
   "execution_count": null,
   "id": "753e721b-68b0-4000-94cb-e108d28ca7e2",
   "metadata": {},
   "outputs": [],
   "source": [
    "print(classification_report(y_valid, y_valid_pred))"
   ]
  },
  {
   "cell_type": "markdown",
   "id": "5d79655c-a7eb-46c0-b7b1-b70014e16be6",
   "metadata": {},
   "source": [
    "## Naive Bayes"
   ]
  },
  {
   "cell_type": "code",
   "execution_count": null,
   "id": "5071cf78-b7fd-424c-bfe3-bcea071a0dbe",
   "metadata": {},
   "outputs": [],
   "source": [
    "from sklearn.naive_bayes import GaussianNB"
   ]
  },
  {
   "cell_type": "code",
   "execution_count": null,
   "id": "fd0ebf28-26c6-4a0e-b912-472069e65f45",
   "metadata": {},
   "outputs": [],
   "source": [
    "nb_model = GaussianNB()\n",
    "nb_model = nb_model.fit(X_train, y_train)"
   ]
  },
  {
   "cell_type": "code",
   "execution_count": null,
   "id": "97e135e1-c1b2-413d-82ec-b33a295e8f6e",
   "metadata": {},
   "outputs": [],
   "source": [
    "y_valid_pred = nb_model.predict(X_valid)\n",
    "print(classification_report(y_valid, y_valid_pred))"
   ]
  },
  {
   "cell_type": "code",
   "execution_count": null,
   "id": "7c182468-36e0-423a-ad9f-5aaf534061b5",
   "metadata": {},
   "outputs": [],
   "source": [
    "# Log Regression"
   ]
  },
  {
   "cell_type": "code",
   "execution_count": null,
   "id": "33bb14e8-a01f-448d-9506-d6538d6c0a52",
   "metadata": {},
   "outputs": [],
   "source": [
    "from sklearn.linear_model import LogisticRegression"
   ]
  },
  {
   "cell_type": "code",
   "execution_count": null,
   "id": "c4ac585d-f725-4447-8495-fc780c912e58",
   "metadata": {},
   "outputs": [],
   "source": [
    "lg_model = LogisticRegression()\n",
    "lg_model = lg_model.fit(X_train, y_train)"
   ]
  },
  {
   "cell_type": "code",
   "execution_count": null,
   "id": "7b9f2071-8c90-4444-9c05-cd955187c89a",
   "metadata": {},
   "outputs": [],
   "source": [
    "y_valid_pred = lg_model.predict(X_valid)\n",
    "print(classification_report(y_valid, y_valid_pred))"
   ]
  },
  {
   "cell_type": "markdown",
   "id": "f3b98d23-65df-4f93-a13a-b07ac4b313de",
   "metadata": {},
   "source": [
    "## SVM"
   ]
  },
  {
   "cell_type": "code",
   "execution_count": null,
   "id": "d6ecdc3d-bc7c-4846-9d1f-28d1f105008a",
   "metadata": {},
   "outputs": [],
   "source": [
    "from sklearn.svm import SVC"
   ]
  },
  {
   "cell_type": "code",
   "execution_count": null,
   "id": "a89fb912-9de4-4729-907b-3e16422706df",
   "metadata": {},
   "outputs": [],
   "source": [
    "svm_model = SVC()\n",
    "svm_model = svm_model.fit(X_train, y_train)"
   ]
  },
  {
   "cell_type": "code",
   "execution_count": null,
   "id": "eb5bb443-cd98-4fd2-ba17-83545e5b716b",
   "metadata": {},
   "outputs": [],
   "source": [
    "y_valid_pred = svm_model.predict(X_valid)\n",
    "print(classification_report(y_valid, y_valid_pred))"
   ]
  },
  {
   "cell_type": "markdown",
   "id": "843b2a1c-8b59-4638-a7a0-69e7e9f05ba0",
   "metadata": {},
   "source": [
    "## Logistic Regression"
   ]
  },
  {
   "cell_type": "code",
   "execution_count": null,
   "id": "af014e04-e362-4ad0-87c8-9b515d767739",
   "metadata": {},
   "outputs": [],
   "source": [
    "from sklearn.linear_model import LogisticRegression"
   ]
  },
  {
   "cell_type": "code",
   "execution_count": null,
   "id": "76f5e578-2e51-4d65-af34-70d9d4ee64e5",
   "metadata": {},
   "outputs": [],
   "source": [
    "logreg_model = LogisticRegression()\n",
    "logreg_model.fit(X_train, y_train)"
   ]
  },
  {
   "cell_type": "code",
   "execution_count": null,
   "id": "a2fa405c-2291-463d-a06e-d2f219249d10",
   "metadata": {},
   "outputs": [],
   "source": [
    "y_valid_pred = logreg_model.predict(X_valid)\n",
    "print(classification_report(y_valid, y_valid_pred))"
   ]
  },
  {
   "cell_type": "markdown",
   "id": "874a5f2b-d97e-4ae0-8814-607a3b93ae7e",
   "metadata": {},
   "source": [
    "## Random Forest"
   ]
  },
  {
   "cell_type": "code",
   "execution_count": null,
   "id": "6ab3ed27-2164-4d97-93ce-e707c5715fe9",
   "metadata": {},
   "outputs": [],
   "source": [
    "from sklearn.ensemble import RandomForestClassifier"
   ]
  },
  {
   "cell_type": "code",
   "execution_count": null,
   "id": "785a4011-de47-48ea-bd12-3093f2af6c79",
   "metadata": {},
   "outputs": [],
   "source": [
    "rf_model = RandomForestClassifier(n_estimators=100)\n",
    "rf_model.fit(X_train, y_train)"
   ]
  },
  {
   "cell_type": "code",
   "execution_count": null,
   "id": "689f9e70-786a-46db-888b-14bc66ea20c6",
   "metadata": {},
   "outputs": [],
   "source": [
    "y_valid_pred = rf_model.predict(X_valid)\n",
    "print(classification_report(y_valid, y_valid_pred))"
   ]
  },
  {
   "cell_type": "markdown",
   "id": "9a3e603d-e8e9-46d7-bea9-6430b5a8984b",
   "metadata": {},
   "source": [
    "## AdaBoost"
   ]
  },
  {
   "cell_type": "code",
   "execution_count": null,
   "id": "6385d43d-52b8-43c7-8088-1f71b3628fb1",
   "metadata": {},
   "outputs": [],
   "source": [
    "from sklearn.ensemble import AdaBoostClassifier"
   ]
  },
  {
   "cell_type": "code",
   "execution_count": null,
   "id": "d054fb07-ba6e-4ded-be8f-d7cf73e7f048",
   "metadata": {},
   "outputs": [],
   "source": [
    "ada_model = AdaBoostClassifier(n_estimators=50)\n",
    "ada_model.fit(X_train, y_train)"
   ]
  },
  {
   "cell_type": "code",
   "execution_count": null,
   "id": "35ed53bb-b012-4368-9f5f-3c2a8be04157",
   "metadata": {},
   "outputs": [],
   "source": [
    "y_valid_pred = ada_model.predict(X_valid)\n",
    "print(classification_report(y_valid, y_valid_pred))"
   ]
  },
  {
   "cell_type": "markdown",
   "id": "bbe36eaa-c3c3-42ef-834b-6123e39c7722",
   "metadata": {},
   "source": [
    "### Escolha do modelo para teste"
   ]
  },
  {
   "cell_type": "code",
   "execution_count": null,
   "id": "a5349798-19d3-457b-815f-0ec9c9a37d0c",
   "metadata": {},
   "outputs": [],
   "source": [
    "y_test_pred = rf_model.predict(X_test)\n",
    "print(classification_report(y_test, y_test_pred))"
   ]
  }
 ],
 "metadata": {
  "kernelspec": {
   "display_name": "Python 3 (ipykernel)",
   "language": "python",
   "name": "python3"
  },
  "language_info": {
   "codemirror_mode": {
    "name": "ipython",
    "version": 3
   },
   "file_extension": ".py",
   "mimetype": "text/x-python",
   "name": "python",
   "nbconvert_exporter": "python",
   "pygments_lexer": "ipython3",
   "version": "3.10.12"
  }
 },
 "nbformat": 4,
 "nbformat_minor": 5
}
